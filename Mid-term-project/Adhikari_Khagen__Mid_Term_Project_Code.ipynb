{
 "cells": [
  {
   "cell_type": "code",
   "execution_count": 1,
   "metadata": {},
   "outputs": [],
   "source": [
    "# required tools for this project\n",
    "from __future__ import division\n",
    "import numpy as np\n",
    "import matplotlib.pylab as plt\n",
    "import scipy.sparse.linalg as solve\n",
    "%matplotlib inline"
   ]
  },
  {
   "cell_type": "code",
   "execution_count": 2,
   "metadata": {},
   "outputs": [],
   "source": [
    "#                       Global variables \n",
    "'''\n",
    "\tWarning:\n",
    "\tDot not use big Nmax, your computer may run out of memory limit\n",
    "'''\n",
    "#Better results with bigger system size\n",
    "#I use Namx=15 in my iMac with 8GB memory\n",
    "Nmax=13 # maximus system size\n",
    "#Ground state energy per site depends on system size for finite system.\n",
    "#So,small stystem size does not give good result\n",
    "Nmin=6 # minimum system size "
   ]
  },
  {
   "cell_type": "code",
   "execution_count": 3,
   "metadata": {},
   "outputs": [],
   "source": [
    "def kron_prod(*arg):\n",
    "    '''\n",
    "        Returns tensor (Kronecker) product\n",
    "        For A's in arg : A1 \\otimes A2 \\otimes A3... \n",
    "    '''\n",
    "    K = 1\n",
    "    for A in arg:\n",
    "        K = np.kron(K, A)\n",
    "    return K"
   ]
  },
  {
   "cell_type": "code",
   "execution_count": 4,
   "metadata": {},
   "outputs": [],
   "source": [
    "def Spin_Matrix(n):\n",
    "    '''\n",
    "        Returns the spin matrix of size n by n for\n",
    "        Splus, Sminus, and Sz\n",
    "    '''\n",
    "    if n < 1:\n",
    "        raise ValueError('Dimension must be one or greater.')\n",
    "\n",
    "    s = (n - 1) / 2 # angular momentum quantum number, n == 2*s + 1\n",
    "    # raising operator in subspace S^2 = s*(s+1)\n",
    "    m = s\n",
    "    # raising operator\n",
    "    Splus = np.zeros((n, n))\n",
    "    for k in range(n-1):\n",
    "        m -= 1\n",
    "        Splus[k, k+1] = np.sqrt(s*(s+1) -m*(m+1))\n",
    "\n",
    "    # lowering operator\n",
    "    Sminus = Splus.conj().transpose()\n",
    "    #Splus=Sx+jSy\n",
    "    #Sminus=Sx-jSy\n",
    "    # Sz operator\n",
    "    Sz = np.diag(np.arange(s,-s-1,-1))\n",
    "    return (Splus,Sminus,Sz)\n",
    "    "
   ]
  },
  {
   "cell_type": "code",
   "execution_count": 5,
   "metadata": {},
   "outputs": [],
   "source": [
    "def Operator(ListOfTuple, N):\n",
    "    '''\n",
    "        Input: Spin Matrix with site index\n",
    "        Method: Use Kronecker product\n",
    "        Output: Returns a matrix \n",
    "    '''\n",
    "    matrix = 0\n",
    "    dim=(2,)*N # for N=2, dim = (2,2)\n",
    "    \n",
    "    for Tuple in ListOfTuple:\n",
    "        a = -1  \n",
    "        term = 1\n",
    "        # using Kronecker product\n",
    "        for k in Tuple:\n",
    "            b = k[1]  \n",
    "            term = kron_prod(term, np.eye(int(np.prod(dim[a+1:b]))), k[0])\n",
    "            a = b\n",
    "            \n",
    "        term = kron_prod(term, np.eye(int(np.prod(dim[a+1:]))))\n",
    "        matrix += term\n",
    "    return matrix\n",
    "    "
   ]
  },
  {
   "cell_type": "code",
   "execution_count": 6,
   "metadata": {},
   "outputs": [],
   "source": [
    "def Hamiltonian(N,J=1,s=1/2):\n",
    "    '''\n",
    "        Input: Chain Length N, Exchange Interaction J, Spin s\n",
    "        Output: Hamiltonian matrix of size (2s+1)^N by (2s+1)^N\n",
    "    '''\n",
    "    H = 0\n",
    "    n=int(2*s+1) # 2 states for spin 1/2\n",
    "    S = Spin_Matrix(n)\n",
    "    \n",
    "    for i in range(N-1):\n",
    "        C=J/2  # first two term in hamiltonian is devided by 2\n",
    "        temp1=[(C*S[0], i), (S[1], i+1)]\n",
    "        temp2=[(C*S[1], i), (S[0], i+1)]\n",
    "        temp3=[(J*S[2], i), (S[2], i+1)]\n",
    "        temp=[temp1,temp2,temp3]\n",
    "        H += Operator(temp, N)\n",
    "    return H"
   ]
  },
  {
   "cell_type": "code",
   "execution_count": 7,
   "metadata": {},
   "outputs": [],
   "source": [
    "def calculate_energy(Namx,Nmin):\n",
    "    '''\n",
    "        This part of program use SciPy to compute eigenvalue problem\n",
    "        of large sparse real symmetric square matrix.\n",
    "    '''\n",
    "    energyList = []\n",
    "    for N in range(Nmin,Nmax+1):\n",
    "        h = Hamiltonian(N)\n",
    "        # solving matrix h\n",
    "        #   vals, vecs = np.linalg.eigh(h)\n",
    "        #    h is a sparse matrix. so, spare matrix solver is good here\n",
    "        vals, vecs = solve.eigsh(h)\n",
    "        energyList.append([N,vals[0]/N])\n",
    "\n",
    "    return energyList"
   ]
  },
  {
   "cell_type": "code",
   "execution_count": 8,
   "metadata": {},
   "outputs": [],
   "source": [
    "def energy_plot(energyList):\n",
    "    '''\n",
    "        This part of code uses matplotlib.pylab to plot ground\n",
    "        state energy per site versus square of inverse chain length.\n",
    "        Results are extrapolated to thermodynamic limit using linear fit,\n",
    "        polynomial fit of degree one from numpy.\n",
    "    '''\n",
    "    plt.close('all')\n",
    "    plt.figure(figsize=(8,6))\n",
    "    plt.title(\"$E_0/N$ versus $1/N^2$\",fontsize=18)\n",
    "\n",
    "    # plot for odd number of system size\n",
    "    x1 = [1.0/x[0]**2 for x in energyList if x[0]%2 == 1]\n",
    "    y1 = [x[1] for x in energyList if x[0]%2 == 1]\n",
    "\n",
    "    #Polynomail fit of degree 1 is a linear fit\n",
    "    m1,c1=np.polyfit(x1,y1,deg=1)\n",
    "    #m1 and c1 are slope and intercept of equation y1=m1*x1+c1\n",
    "    poly1=m1*np.array(x1)+c1\n",
    "    plt.plot(x1,poly1,color='red',lw=2)\n",
    "    plt.plot(x1,y1,'mo',ms=8,label='Odd $E_0/N$= %1.6f'%c1)\n",
    "\n",
    "    # plot for even number of system size\n",
    "    x2 = [1.0/x[0]**2 for x in energyList if x[0]%2 == 0]\n",
    "    y2 = [x[1] for x in energyList if x[0]%2 == 0]\n",
    "    m2,c2=np.polyfit(x2,y2,deg=1)\n",
    "    poly2=m2*np.array(x2)+c2\n",
    "    plt.plot(x2,poly2,color='blue',lw=2)\n",
    "    plt.plot(x2,y2,'kD',ms=7,label='Even $E_0/N$= %1.6f'%c2)\n",
    "\n",
    "\n",
    "    plt.ylabel('Ground State Energy Per Site $(E_0/N)$',fontsize=14)\n",
    "    plt.xlabel('Square of Inverse Chain Length,$1/N^2$',fontsize=14)\n",
    "    plt.tick_params(labelsize=12)\n",
    "    plt.legend(loc=4)\n",
    "    #plt.savefig('Adhikari_Khagen_Mid_Term_Project_Plot.pdf')\n",
    "    plt.tight_layout()\n",
    "    #plt.show()"
   ]
  },
  {
   "cell_type": "code",
   "execution_count": 9,
   "metadata": {},
   "outputs": [],
   "source": [
    "def main():\n",
    "    energyList = calculate_energy(Nmax,Nmin)\n",
    "    energy_plot(energyList)"
   ]
  },
  {
   "cell_type": "code",
   "execution_count": 10,
   "metadata": {
    "scrolled": true
   },
   "outputs": [
    {
     "data": {
      "image/png": "[encoded data removed]",
      "text/plain": [
       "<Figure size 576x432 with 1 Axes>"
      ]
     },
     "metadata": {
      "needs_background": "light"
     },
     "output_type": "display_data"
    }
   ],
   "source": [
    "if __name__ == \"__main__\":\n",
    "    main()"
   ]
  },
  {
   "cell_type": "code",
   "execution_count": null,
   "metadata": {},
   "outputs": [],
   "source": []
  }
 ],
 "metadata": {
  "kernelspec": {
   "display_name": "Python 3",
   "language": "python",
   "name": "python3"
  },
  "language_info": {
   "codemirror_mode": {
    "name": "ipython",
    "version": 3
   },
   "file_extension": ".py",
   "mimetype": "text/x-python",
   "name": "python",
   "nbconvert_exporter": "python",
   "pygments_lexer": "ipython3",
   "version": "3.6.10"
  }
 },
 "nbformat": 4,
 "nbformat_minor": 2
}
